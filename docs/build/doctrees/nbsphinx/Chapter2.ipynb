{
 "cells": [
  {
   "cell_type": "markdown",
   "metadata": {},
   "source": [
    "\n",
    "# Basic librat / RATstart operation\n",
    "\n",
    "\n",
    "Librat is the library of function calls around which you can write your own code to do things such as read in and parse an object file, read in and parse camera, illumination files, waveband files and so on. However, RATstart (forerly start) is a wrapper code around these commands which gives you access to all the basic operations, and so is the de facto tool for doing simulations. The key things required to carry out a simulation are:\n",
    "\n",
    "- A camera file\n",
    "- An illumination file\n",
    "- A waveband file\n",
    "- An object file - this is always assumed to be the last file on the RATstart command line\n",
    "\n",
    "Anything specific you want to do in any of these parts of the process is specified in these files. There are a limited number of additional command line options which either allow you to override a few key things in these files (the waveband file for example), or more usually are external to these things. Each of these can be passed through via the `-RAT` keyword. Examples are the ray tree depth (`-RATm`) , verbose level (`-RATv`), waveband file (`-RATsensor_wavebands`) etc.\n",
    "\n",
    "---------------------------------\n",
    "\n"
   ]
  },
  {
   "cell_type": "markdown",
   "metadata": {},
   "source": [
    "## Object example 1: planes and ellipsoids\n",
    "\n",
    "\n"
   ]
  },
  {
   "cell_type": "code",
   "execution_count": 1,
   "metadata": {},
   "outputs": [],
   "source": [
    "%%bash\n",
    "mkdir -p test/test_examples"
   ]
  },
  {
   "cell_type": "markdown",
   "metadata": {},
   "source": [
    "Now, a simple scene object [`test/test_examples/first.obj`](test/test_examples/first.obj)"
   ]
  },
  {
   "cell_type": "code",
   "execution_count": 2,
   "metadata": {},
   "outputs": [],
   "source": [
    "%%bash\n",
    "\n",
    "cat <<EOF > test/test_examples/first.obj\n",
    "# My first object file\n",
    "mtllib plants.matlib \n",
    "usemtl white \n",
    "v 0 0 0 \n",
    "v 0 0 1 \n",
    "plane -1 -2 \n",
    "!{\n",
    "usemtl white \n",
    "!{ \n",
    "v 0 0 1000 \n",
    "ell -1 30000 30000 1000 \n",
    "!} \n",
    "!}\n",
    "EOF"
   ]
  },
  {
   "cell_type": "markdown",
   "metadata": {},
   "source": [
    "This object uses a material library [`plants.matlib`](test/test_examples/plants.matlib) that specifies the reflectance and transmittance properties of the scene materials."
   ]
  },
  {
   "cell_type": "code",
   "execution_count": 3,
   "metadata": {},
   "outputs": [],
   "source": [
    "%%bash\n",
    "\n",
    "cat <<EOF > test/test_examples/plants.matlib\n",
    "srm white refl/white.dat\n",
    "EOF"
   ]
  },
  {
   "cell_type": "markdown",
   "metadata": {},
   "source": [
    "In this example, the file contains the single line:\n",
    "\n",
    "    srm white refl/white.dat\n",
    "\n",
    "so there is only a single material of type `srm` (standard reflectance material - Lambertian reflectance (and/or transmittance). The material name is `white` and the (ASCII) file giving the spectral reflectance function is [`refl/white.dat`](test/test_examples/refl/white.dat). "
   ]
  },
  {
   "cell_type": "code",
   "execution_count": 4,
   "metadata": {},
   "outputs": [],
   "source": [
    "%%bash\n",
    "\n",
    "mkdir -p test/test_examples/refl\n",
    "\n",
    "cat <<EOF > test/test_examples/refl/white.dat\n",
    "0 1 \n",
    "10000 1\n",
    "EOF"
   ]
  },
  {
   "cell_type": "markdown",
   "metadata": {},
   "source": [
    "The file [`refl/white.dat`](test/test_examples/refl/white.dat) contains 2 columns: column 1 is 'wavelength' (really, a pseudo-wavelength in this case), column 2 is reflectance for that wavelength (wavelength units are arbitrary, but we usually use nm). \n",
    "\n",
    "In this case, the file specifies:\n",
    "\n",
    "    0 1 \n",
    "    10000 1\n",
    "\n",
    "which is a reflectance of 1.0 for any wavelength (less than or equal to an arbitrary upper limit 10000). If the file specifies transmittance as well, this is given as a third column.\n",
    "\n",
    "Looking back to [`test/test_examples/first.obj`](test/test_examples/first.obj), the line:\n",
    "\n",
    "    mtllib plants.matlib \n",
    "    \n",
    "tells the librat reader to load the 'material library' called [`plants.matlib`](test/test_examples/plants.matlib). First, it will look in the current directory for the file. If it doesn't find it there, it will see if the environment variable `MATLIB` is set. If so, it will look there next. \n",
    "\n"
   ]
  },
  {
   "cell_type": "markdown",
   "metadata": {},
   "source": [
    "## Environment variables\n",
    "\n",
    "The following environmental variables can be used:\n",
    "\n",
    "\n",
    "| Name | File types |\n",
    "|:-:|:-:|\n",
    "| `MATLIB` | material library e.g. `plants.matlib`, all materials defined in a material library e.g. `white.dat`|\n",
    "| `ARARAT_OBJECT` | (extended) wavefront object files e.g. `first.obj`  |\n",
    "| `DIRECT_ILLUMINATION` | spectral files for direct illumination: those defined in `-RATdirect` command line option |\n",
    "| `RSRLIB` | sensor waveband files: those defined in `-RATsensor_wavebands` command line option |\n",
    "| `BPMS_FILES` | Not used |\n",
    "| `SKY_ILLUMINATION` | location of sky map image files: defined in `-RATskymap`  command line option |\n",
    "\n",
    "\n",
    "\n",
    "\n",
    "You can set all of these to the same value, in which case the database of files is all defined relative to that point. This is the most typical use of `librat`. We illustrate this setup below for the `librat` distribution, where a set of examples use files from the directory `test/test_example`.\n",
    "\n",
    "Additionally, the following environment variables can be set to extend the size of some aspects of the model. You would only need to use these in some extreme case.\n",
    "\n",
    "| Name | Purpose |\n",
    "|:-:|:-:|\n",
    "| `MAX_GROUPS` | Maximum number of groups allowed (100000) |\n",
    "| `PRAT_MAX_MATERIALS` | Maximum number of materials allowed (DEFAULT_PRAT_MAX_MATERIALS=1024 in `mtllib.h`) |\n",
    "| `MAX_SUNS` | Maximum number of suns (180 in `rat.h`) |\n",
    "| `MAX_OBJECT_TYPES` | Maximum number of types of object used (`sph`, `f`, etc): hardwired in `intersect_objects.h` at 16. Only used in `RATstart` option 8 |\n",
    "\n",
    "\n",
    "In this case, we would want to set `MATLIB` to `test/test_examples` before invoking `librat`. In `bash` for example, this is done with:\n",
    "\n"
   ]
  },
  {
   "cell_type": "code",
   "execution_count": 5,
   "metadata": {},
   "outputs": [],
   "source": [
    "%%bash\n",
    "\n",
    "export MATLIB=test/test_examples"
   ]
  },
  {
   "cell_type": "markdown",
   "metadata": {},
   "source": [
    "Let's put all of these into a shell called [`init.sh`](test/test_examples/init.sh):"
   ]
  },
  {
   "cell_type": "code",
   "execution_count": 6,
   "metadata": {},
   "outputs": [
    {
     "name": "stderr",
     "output_type": "stream",
     "text": [
      "make: *** No rule to make target `clean'.  Stop.\n"
     ]
    },
    {
     "ename": "CalledProcessError",
     "evalue": "Command 'b'\\n# create the init.sh file we want\\noutfile=test/test_examples/init.sh\\n\\ncat <<EOF > $outfile\\n#!/bin/bash\\n#\\n# preamble \\n#\\nBPMS=\\\\${BPMS-\\\\$(pwd)}\\n# set shell variables lib, bin, verbose\\n# with defaults in case not set \\nlib=\\\\${lib-\"\\\\$BPMS/src\"}\\nbin=\\\\${bin-\"\\\\$BPMS/src\"}\\nVERBOSE=\\\\${VERBOSE-1}\\n\\n# set up required environment variables for bash\\nexport LD_LIBRARY_PATH=\"\\\\${lib}:\\\\${LD_LIBRARY_PATH}\"\\nexport DYLD_LIBRARY_PATH=\"\\\\${lib}:\\\\${DYLD_LIBRARY_PATH}\"\\nexport PATH=\"\\\\${bin}:\\\\${PATH}\"\\n\\n# set up required environment variables for librat\\nexport TEST=\\\\${BPMS}/test/test_example\\nexport MATLIB=\\\\$TEST\\nexport RSRLIB=\\\\$TEST\\nexport ARARAT_OBJECT=\\\\$TEST\\nexport DIRECT_ILLUMINATION=\\\\$TEST\\nexport BPMS_FILES=\\\\$TEST\\n\\nif [ \"\\\\$(which RATstart)\" == \"\\\\${bin}/RATstart\" ]\\nthen\\n  if [ \"\\\\$VERBOSE\" ]; then\\n      echo \"RATstart found ok\"\\n  fi\\nelse\\n  # we should create them\\n  make clean all \\nfi\\nEOF\\n\\n# set executable mode\\nchmod +x $outfile\\n# test run\\n$outfile\\n'' returned non-zero exit status 2.",
     "output_type": "error",
     "traceback": [
      "\u001b[0;31m---------------------------------------------------------------------------\u001b[0m",
      "\u001b[0;31mCalledProcessError\u001b[0m                        Traceback (most recent call last)",
      "\u001b[0;32m<ipython-input-6-d988add8e183>\u001b[0m in \u001b[0;36m<module>\u001b[0;34m\u001b[0m\n\u001b[0;32m----> 1\u001b[0;31m \u001b[0mget_ipython\u001b[0m\u001b[0;34m(\u001b[0m\u001b[0;34m)\u001b[0m\u001b[0;34m.\u001b[0m\u001b[0mrun_cell_magic\u001b[0m\u001b[0;34m(\u001b[0m\u001b[0;34m'bash'\u001b[0m\u001b[0;34m,\u001b[0m \u001b[0;34m''\u001b[0m\u001b[0;34m,\u001b[0m \u001b[0;34m'\\n# create the init.sh file we want\\noutfile=test/test_examples/init.sh\\n\\ncat <<EOF > $outfile\\n#!/bin/bash\\n#\\n# preamble \\n#\\nBPMS=\\\\${BPMS-\\\\$(pwd)}\\n# set shell variables lib, bin, verbose\\n# with defaults in case not set \\nlib=\\\\${lib-\"\\\\$BPMS/src\"}\\nbin=\\\\${bin-\"\\\\$BPMS/src\"}\\nVERBOSE=\\\\${VERBOSE-1}\\n\\n# set up required environment variables for bash\\nexport LD_LIBRARY_PATH=\"\\\\${lib}:\\\\${LD_LIBRARY_PATH}\"\\nexport DYLD_LIBRARY_PATH=\"\\\\${lib}:\\\\${DYLD_LIBRARY_PATH}\"\\nexport PATH=\"\\\\${bin}:\\\\${PATH}\"\\n\\n# set up required environment variables for librat\\nexport TEST=\\\\${BPMS}/test/test_example\\nexport MATLIB=\\\\$TEST\\nexport RSRLIB=\\\\$TEST\\nexport ARARAT_OBJECT=\\\\$TEST\\nexport DIRECT_ILLUMINATION=\\\\$TEST\\nexport BPMS_FILES=\\\\$TEST\\n\\nif [ \"\\\\$(which RATstart)\" == \"\\\\${bin}/RATstart\" ]\\nthen\\n  if [ \"\\\\$VERBOSE\" ]; then\\n      echo \"RATstart found ok\"\\n  fi\\nelse\\n  # we should create them\\n  make clean all \\nfi\\nEOF\\n\\n# set executable mode\\nchmod +x $outfile\\n# test run\\n$outfile\\n'\u001b[0m\u001b[0;34m)\u001b[0m\u001b[0;34m\u001b[0m\u001b[0;34m\u001b[0m\u001b[0m\n\u001b[0m",
      "\u001b[0;32m~/opt/anaconda3/envs/librat/lib/python3.8/site-packages/IPython/core/interactiveshell.py\u001b[0m in \u001b[0;36mrun_cell_magic\u001b[0;34m(self, magic_name, line, cell)\u001b[0m\n\u001b[1;32m   2360\u001b[0m             \u001b[0;32mwith\u001b[0m \u001b[0mself\u001b[0m\u001b[0;34m.\u001b[0m\u001b[0mbuiltin_trap\u001b[0m\u001b[0;34m:\u001b[0m\u001b[0;34m\u001b[0m\u001b[0;34m\u001b[0m\u001b[0m\n\u001b[1;32m   2361\u001b[0m                 \u001b[0margs\u001b[0m \u001b[0;34m=\u001b[0m \u001b[0;34m(\u001b[0m\u001b[0mmagic_arg_s\u001b[0m\u001b[0;34m,\u001b[0m \u001b[0mcell\u001b[0m\u001b[0;34m)\u001b[0m\u001b[0;34m\u001b[0m\u001b[0;34m\u001b[0m\u001b[0m\n\u001b[0;32m-> 2362\u001b[0;31m                 \u001b[0mresult\u001b[0m \u001b[0;34m=\u001b[0m \u001b[0mfn\u001b[0m\u001b[0;34m(\u001b[0m\u001b[0;34m*\u001b[0m\u001b[0margs\u001b[0m\u001b[0;34m,\u001b[0m \u001b[0;34m**\u001b[0m\u001b[0mkwargs\u001b[0m\u001b[0;34m)\u001b[0m\u001b[0;34m\u001b[0m\u001b[0;34m\u001b[0m\u001b[0m\n\u001b[0m\u001b[1;32m   2363\u001b[0m             \u001b[0;32mreturn\u001b[0m \u001b[0mresult\u001b[0m\u001b[0;34m\u001b[0m\u001b[0;34m\u001b[0m\u001b[0m\n\u001b[1;32m   2364\u001b[0m \u001b[0;34m\u001b[0m\u001b[0m\n",
      "\u001b[0;32m~/opt/anaconda3/envs/librat/lib/python3.8/site-packages/IPython/core/magics/script.py\u001b[0m in \u001b[0;36mnamed_script_magic\u001b[0;34m(line, cell)\u001b[0m\n\u001b[1;32m    140\u001b[0m             \u001b[0;32melse\u001b[0m\u001b[0;34m:\u001b[0m\u001b[0;34m\u001b[0m\u001b[0;34m\u001b[0m\u001b[0m\n\u001b[1;32m    141\u001b[0m                 \u001b[0mline\u001b[0m \u001b[0;34m=\u001b[0m \u001b[0mscript\u001b[0m\u001b[0;34m\u001b[0m\u001b[0;34m\u001b[0m\u001b[0m\n\u001b[0;32m--> 142\u001b[0;31m             \u001b[0;32mreturn\u001b[0m \u001b[0mself\u001b[0m\u001b[0;34m.\u001b[0m\u001b[0mshebang\u001b[0m\u001b[0;34m(\u001b[0m\u001b[0mline\u001b[0m\u001b[0;34m,\u001b[0m \u001b[0mcell\u001b[0m\u001b[0;34m)\u001b[0m\u001b[0;34m\u001b[0m\u001b[0;34m\u001b[0m\u001b[0m\n\u001b[0m\u001b[1;32m    143\u001b[0m \u001b[0;34m\u001b[0m\u001b[0m\n\u001b[1;32m    144\u001b[0m         \u001b[0;31m# write a basic docstring:\u001b[0m\u001b[0;34m\u001b[0m\u001b[0;34m\u001b[0m\u001b[0;34m\u001b[0m\u001b[0m\n",
      "\u001b[0;32m<decorator-gen-110>\u001b[0m in \u001b[0;36mshebang\u001b[0;34m(self, line, cell)\u001b[0m\n",
      "\u001b[0;32m~/opt/anaconda3/envs/librat/lib/python3.8/site-packages/IPython/core/magic.py\u001b[0m in \u001b[0;36m<lambda>\u001b[0;34m(f, *a, **k)\u001b[0m\n\u001b[1;32m    185\u001b[0m     \u001b[0;31m# but it's overkill for just that one bit of state.\u001b[0m\u001b[0;34m\u001b[0m\u001b[0;34m\u001b[0m\u001b[0;34m\u001b[0m\u001b[0m\n\u001b[1;32m    186\u001b[0m     \u001b[0;32mdef\u001b[0m \u001b[0mmagic_deco\u001b[0m\u001b[0;34m(\u001b[0m\u001b[0marg\u001b[0m\u001b[0;34m)\u001b[0m\u001b[0;34m:\u001b[0m\u001b[0;34m\u001b[0m\u001b[0;34m\u001b[0m\u001b[0m\n\u001b[0;32m--> 187\u001b[0;31m         \u001b[0mcall\u001b[0m \u001b[0;34m=\u001b[0m \u001b[0;32mlambda\u001b[0m \u001b[0mf\u001b[0m\u001b[0;34m,\u001b[0m \u001b[0;34m*\u001b[0m\u001b[0ma\u001b[0m\u001b[0;34m,\u001b[0m \u001b[0;34m**\u001b[0m\u001b[0mk\u001b[0m\u001b[0;34m:\u001b[0m \u001b[0mf\u001b[0m\u001b[0;34m(\u001b[0m\u001b[0;34m*\u001b[0m\u001b[0ma\u001b[0m\u001b[0;34m,\u001b[0m \u001b[0;34m**\u001b[0m\u001b[0mk\u001b[0m\u001b[0;34m)\u001b[0m\u001b[0;34m\u001b[0m\u001b[0;34m\u001b[0m\u001b[0m\n\u001b[0m\u001b[1;32m    188\u001b[0m \u001b[0;34m\u001b[0m\u001b[0m\n\u001b[1;32m    189\u001b[0m         \u001b[0;32mif\u001b[0m \u001b[0mcallable\u001b[0m\u001b[0;34m(\u001b[0m\u001b[0marg\u001b[0m\u001b[0;34m)\u001b[0m\u001b[0;34m:\u001b[0m\u001b[0;34m\u001b[0m\u001b[0;34m\u001b[0m\u001b[0m\n",
      "\u001b[0;32m~/opt/anaconda3/envs/librat/lib/python3.8/site-packages/IPython/core/magics/script.py\u001b[0m in \u001b[0;36mshebang\u001b[0;34m(self, line, cell)\u001b[0m\n\u001b[1;32m    243\u001b[0m             \u001b[0msys\u001b[0m\u001b[0;34m.\u001b[0m\u001b[0mstderr\u001b[0m\u001b[0;34m.\u001b[0m\u001b[0mflush\u001b[0m\u001b[0;34m(\u001b[0m\u001b[0;34m)\u001b[0m\u001b[0;34m\u001b[0m\u001b[0;34m\u001b[0m\u001b[0m\n\u001b[1;32m    244\u001b[0m         \u001b[0;32mif\u001b[0m \u001b[0margs\u001b[0m\u001b[0;34m.\u001b[0m\u001b[0mraise_error\u001b[0m \u001b[0;32mand\u001b[0m \u001b[0mp\u001b[0m\u001b[0;34m.\u001b[0m\u001b[0mreturncode\u001b[0m\u001b[0;34m!=\u001b[0m\u001b[0;36m0\u001b[0m\u001b[0;34m:\u001b[0m\u001b[0;34m\u001b[0m\u001b[0;34m\u001b[0m\u001b[0m\n\u001b[0;32m--> 245\u001b[0;31m             \u001b[0;32mraise\u001b[0m \u001b[0mCalledProcessError\u001b[0m\u001b[0;34m(\u001b[0m\u001b[0mp\u001b[0m\u001b[0;34m.\u001b[0m\u001b[0mreturncode\u001b[0m\u001b[0;34m,\u001b[0m \u001b[0mcell\u001b[0m\u001b[0;34m,\u001b[0m \u001b[0moutput\u001b[0m\u001b[0;34m=\u001b[0m\u001b[0mout\u001b[0m\u001b[0;34m,\u001b[0m \u001b[0mstderr\u001b[0m\u001b[0;34m=\u001b[0m\u001b[0merr\u001b[0m\u001b[0;34m)\u001b[0m\u001b[0;34m\u001b[0m\u001b[0;34m\u001b[0m\u001b[0m\n\u001b[0m\u001b[1;32m    246\u001b[0m \u001b[0;34m\u001b[0m\u001b[0m\n\u001b[1;32m    247\u001b[0m     \u001b[0;32mdef\u001b[0m \u001b[0m_run_script\u001b[0m\u001b[0;34m(\u001b[0m\u001b[0mself\u001b[0m\u001b[0;34m,\u001b[0m \u001b[0mp\u001b[0m\u001b[0;34m,\u001b[0m \u001b[0mcell\u001b[0m\u001b[0;34m,\u001b[0m \u001b[0mto_close\u001b[0m\u001b[0;34m)\u001b[0m\u001b[0;34m:\u001b[0m\u001b[0;34m\u001b[0m\u001b[0;34m\u001b[0m\u001b[0m\n",
      "\u001b[0;31mCalledProcessError\u001b[0m: Command 'b'\\n# create the init.sh file we want\\noutfile=test/test_examples/init.sh\\n\\ncat <<EOF > $outfile\\n#!/bin/bash\\n#\\n# preamble \\n#\\nBPMS=\\\\${BPMS-\\\\$(pwd)}\\n# set shell variables lib, bin, verbose\\n# with defaults in case not set \\nlib=\\\\${lib-\"\\\\$BPMS/src\"}\\nbin=\\\\${bin-\"\\\\$BPMS/src\"}\\nVERBOSE=\\\\${VERBOSE-1}\\n\\n# set up required environment variables for bash\\nexport LD_LIBRARY_PATH=\"\\\\${lib}:\\\\${LD_LIBRARY_PATH}\"\\nexport DYLD_LIBRARY_PATH=\"\\\\${lib}:\\\\${DYLD_LIBRARY_PATH}\"\\nexport PATH=\"\\\\${bin}:\\\\${PATH}\"\\n\\n# set up required environment variables for librat\\nexport TEST=\\\\${BPMS}/test/test_example\\nexport MATLIB=\\\\$TEST\\nexport RSRLIB=\\\\$TEST\\nexport ARARAT_OBJECT=\\\\$TEST\\nexport DIRECT_ILLUMINATION=\\\\$TEST\\nexport BPMS_FILES=\\\\$TEST\\n\\nif [ \"\\\\$(which RATstart)\" == \"\\\\${bin}/RATstart\" ]\\nthen\\n  if [ \"\\\\$VERBOSE\" ]; then\\n      echo \"RATstart found ok\"\\n  fi\\nelse\\n  # we should create them\\n  make clean all \\nfi\\nEOF\\n\\n# set executable mode\\nchmod +x $outfile\\n# test run\\n$outfile\\n'' returned non-zero exit status 2."
     ]
    }
   ],
   "source": [
    "%%bash\n",
    "\n",
    "# create the init.sh file we want\n",
    "outfile=test/test_examples/init.sh\n",
    "\n",
    "cat <<EOF > $outfile\n",
    "#!/bin/bash\n",
    "#\n",
    "# preamble \n",
    "#\n",
    "BPMS=\\${BPMS-\\$(pwd)}\n",
    "# set shell variables lib, bin, verbose\n",
    "# with defaults in case not set \n",
    "lib=\\${lib-\"\\$BPMS/src\"}\n",
    "bin=\\${bin-\"\\$BPMS/src\"}\n",
    "VERBOSE=\\${VERBOSE-1}\n",
    "\n",
    "# set up required environment variables for bash\n",
    "export LD_LIBRARY_PATH=\"\\${lib}:\\${LD_LIBRARY_PATH}\"\n",
    "export DYLD_LIBRARY_PATH=\"\\${lib}:\\${DYLD_LIBRARY_PATH}\"\n",
    "export PATH=\"\\${bin}:\\${PATH}\"\n",
    "\n",
    "# set up required environment variables for librat\n",
    "export TEST=\\${BPMS}/test/test_example\n",
    "export MATLIB=\\$TEST\n",
    "export RSRLIB=\\$TEST\n",
    "export ARARAT_OBJECT=\\$TEST\n",
    "export DIRECT_ILLUMINATION=\\$TEST\n",
    "export BPMS_FILES=\\$TEST\n",
    "\n",
    "if [ \"\\$(which RATstart)\" == \"\\${bin}/RATstart\" ]\n",
    "then\n",
    "  if [ \"\\$VERBOSE\" ]; then\n",
    "      echo \"RATstart found ok\"\n",
    "  fi\n",
    "else\n",
    "  # we should create them\n",
    "  make clean all \n",
    "fi\n",
    "EOF\n",
    "\n",
    "# set executable mode\n",
    "chmod +x $outfile\n",
    "# test run\n",
    "$outfile"
   ]
  },
  {
   "cell_type": "code",
   "execution_count": null,
   "metadata": {},
   "outputs": [],
   "source": []
  },
  {
   "cell_type": "markdown",
   "metadata": {},
   "source": [
    "The object code line:\n",
    "\n",
    "    usemtl white\n",
    "    \n",
    "tells `librat` to load the material named `white`. Since we defined that in [`plants.matlib`](test/test_examples/plants.matlib) as type `srm` with spectral file [`refl/white.dat`](test/test_examples/refl/white.dat), the material will have a Lambertian reflectance of `1.0` for all (up to 10000 units) wavelengths."
   ]
  },
  {
   "cell_type": "code",
   "execution_count": null,
   "metadata": {},
   "outputs": [],
   "source": [
    "%%bash\n",
    "\n",
    "cat <<EOF > test/test_examples/white.dat\n",
    "1 1.0\n",
    "1000 1.0\n",
    "EOF"
   ]
  },
  {
   "cell_type": "markdown",
   "metadata": {},
   "source": [
    "    mtllib plants.matlib \n",
    "    usemtl white \n",
    "    v 0 0 0 \n",
    "    v 0 0 1 \n",
    "    plane -1 -2 \n",
    "    !{\n",
    "    usemtl white \n",
    "    !{ \n",
    "    v 0 0 1000 \n",
    "    ell -1 30000 30000 1000 \n",
    "    !} \n",
    "    !}\n",
    "\n",
    "\n",
    "The fields starting `v` in [`test/test_examples/first.obj`](test/test_examples/first.obj) denote a vertex (vector) (as in the standard wavefront format). This requires 3 numbers to be given after the `v` giving the {x,y,z} coordinates of the vector. Note that `v` fields can specify a *location* or *direction* vector. \n",
    "\n",
    "The fields `plane` and `ell` specify scene objects. We will look at a fuller range of such objects later, but these two allow for a simple scene specification. plane is an infinite planar object. It is defined by an intersection point (location vector) `I` and a direction vector `N`. These vectors need to be defined before a call is made to the object, so in this case, we define `I` as `0 0 0` and `N` as `0 0 1`, i.e. an x-y plane at z=0.\n",
    "\n",
    "Thus `plane -1 -2` means 'define a plane with `N` given by the previous (`-1`) specified vector that goes through `I` given by the second to last specified vector (`-2`).'\n",
    "\n",
    "`ell` is an ellipsoid object. Its description requires definition of: \n",
    "\n",
    "- the base (N.B. not the centre) of the ellipsoid (`-1` here, meaning the previously-defined vector - `0 0 1000` in this case); \n",
    "-  the semi-axis lengths in `x,y,z` directions (`30000 30000 1000` here).\n",
    "\n",
    "so:\n",
    "\n",
    "    v 0 0 1000 \n",
    "    ell -1 30000 30000 1000\n",
    "\n",
    "is in fact a spheroid of x-y semi-axis length 30000 units (arbitrary linear units) and z-semi-axis length 1000 units: a *prolate* spheroid that extends from `-30000` to `30000` in the x- and y-directions and from `1000` to `3000` in the z-direction. Not that the physical unit for these dimensions is arbitrary, but must be consistent throughout.\n",
    "\n",
    "\n",
    "The fields `!{` and `!}` in [`test/test_examples/first.obj`](test/test_examples/first.obj) specify that a bounding box should be placed around objects contained within the brackets. This allows for efficient intersection tests in the ray tracing."
   ]
  },
  {
   "cell_type": "markdown",
   "metadata": {},
   "source": [
    "We now want to use the code `RATstart` to run `librat` functionality.\n",
    "\n",
    "If you have compiled the code, the executable and library should be in the directory [`src`](src) as\n",
    "\n",
    "    src/RATstart\n",
    "    src/libratlib.[dll,so]\n",
    "    \n",
    "The suffix for the library will be `dll` on windows, and `so` on other operating systems. Lets just check they are there:"
   ]
  },
  {
   "cell_type": "code",
   "execution_count": null,
   "metadata": {},
   "outputs": [],
   "source": [
    "%%bash\n",
    "\n",
    "lib='./src'\n",
    "bin='./src'\n",
    "\n",
    "ls -l ${lib}/RATstart ${bin}/libratlib.*"
   ]
  },
  {
   "cell_type": "markdown",
   "metadata": {},
   "source": [
    "Don't worry too much if its not there as we can make it when we need it."
   ]
  },
  {
   "cell_type": "code",
   "execution_count": null,
   "metadata": {},
   "outputs": [],
   "source": [
    "%%bash\n",
    "\n",
    "#\n",
    "# shell preamble \n",
    "#\n",
    "\n",
    "# set shell variables lib, bin, verbose\n",
    "# with defaults in case not set \n",
    "lib=${lib-'./src'}\n",
    "bin=${bin-'./src'}\n",
    "verbose=${verbose-1}\n",
    "\n",
    "# set up required environment variables for bash\n",
    "export LD_LIBRARY_PATH=\"${lib}:${LD_LIBRARY_PATH}\"\n",
    "export DYLD_LIBRARY_PATH=\"${lib}:${DYLD_LIBRARY_PATH}\"\n",
    "export PATH=\"${bin}:${PATH}\"\n",
    "\n",
    "# set up required environment variables for librat\n",
    "export TEST=${BPMS}/test/test_example\n",
    "export MATLIB=$TEST\n",
    "export RSRLIB=$TEST\n",
    "export ARARAT_OBJECT=$TEST\n",
    "export DIRECT_ILLUMINATION=$TEST\n",
    "export BPMS_FILES=$TEST\n",
    "\n",
    "if [ $(which RATstart) == './src/RATstart' ]\n",
    "then\n",
    "  if [ $verbose ]; then\n",
    "      echo \"RATstart found ok\"\n",
    "  fi\n",
    "else\n",
    "  # we should create them\n",
    "  make clean all \n",
    "fi"
   ]
  },
  {
   "cell_type": "markdown",
   "metadata": {},
   "source": [
    "## Object example 2: clones\n",
    "\n",
    "---------------------------------\n",
    "\n"
   ]
  },
  {
   "cell_type": "code",
   "execution_count": null,
   "metadata": {},
   "outputs": [],
   "source": [
    "%%bash\n",
    "\n",
    "cat <<EOF > test/test_examples/second.obj\n",
    "!{\n",
    "mtllib plants.matlib\n",
    "v 0.000000 0.000000 0.000000\n",
    "v 0.000000 0.000000 1.000000\n",
    "usemtl full\n",
    "plane -1 -2\n",
    "!{\n",
    "#define\n",
    "g object 0\n",
    "usemtl half\n",
    "v 0 0 0\n",
    "v 0 0 1\n",
    "cyl -1 -2 0.1\n",
    "sph -1 0.2\n",
    "v -1 0 1\n",
    "cyl -1 -2 0.1\n",
    "!}\n",
    "!{\n",
    "clone 0 0 0 0 object 0\n",
    "clone 0 1 0 90 object 0\n",
    "clone -1 0 0 -90 object 0\n",
    "!}\n",
    "!}\n",
    "EOF"
   ]
  }
 ],
 "metadata": {
  "kernelspec": {
   "display_name": "Python 3",
   "language": "python",
   "name": "python3"
  },
  "language_info": {
   "codemirror_mode": {
    "name": "ipython",
    "version": 3
   },
   "file_extension": ".py",
   "mimetype": "text/x-python",
   "name": "python",
   "nbconvert_exporter": "python",
   "pygments_lexer": "ipython3",
   "version": "3.7.4"
  }
 },
 "nbformat": 4,
 "nbformat_minor": 2
}
