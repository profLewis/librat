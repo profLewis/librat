{
 "cells": [
  {
   "cell_type": "markdown",
   "metadata": {},
   "source": [
    "\n",
    "# Basic librat / RATstart operation\n",
    "\n",
    "\n",
    "Librat is the library of function calls around which you can write your own code to do things such as read in and parse an object file, read in and parse camera, illumination files, waveband files and so on. However, RATstart (forerly start) is a wrapper code around these commands which gives you access to all the basic operations, and so is the de facto tool for doing simulations. The key things required to carry out a simulation are:\n",
    "\n",
    "- A camera file\n",
    "- An illumination file\n",
    "- A waveband file\n",
    "- An object file - this is always assumed to be the last file on the RATstart command line\n",
    "\n",
    "Anything specific you want to do in any of these parts of the process is specified in these files. There are a limited number of additional command line options which either allow you to override a few key things in these files (the waveband file for example), or more usually are external to these things. Each of these can be passed through via the `-RAT` keyword. Examples are the ray tree depth (`-RATm`) , verbose level (`-RATv`), waveband file (`-RATsensor_wavebands`) etc.\n",
    "\n",
    "---------------------------------\n",
    "\n"
   ]
  },
  {
   "cell_type": "markdown",
   "metadata": {},
   "source": [
    "## Object example 1: planes and ellipsoids\n",
    "\n",
    "\n"
   ]
  },
  {
   "cell_type": "markdown",
   "metadata": {},
   "source": [
    "Now, a simple scene object [`test/test_examples/first.obj`](test/test_examples/first.obj)"
   ]
  },
  {
   "cell_type": "code",
   "execution_count": 1,
   "metadata": {},
   "outputs": [],
   "source": [
    "%%bash\n",
    "\n",
    "cat <<EOF > test/test_examples/first.obj\n",
    "# My first object file\n",
    "mtllib plants.matlib \n",
    "usemtl white \n",
    "v 0 0 0 \n",
    "v 0 0 1 \n",
    "plane -1 -2 \n",
    "!{\n",
    "usemtl white \n",
    "!{ \n",
    "v 0 0 1000 \n",
    "ell -1 30000 30000 1000 \n",
    "!} \n",
    "!}\n",
    "EOF"
   ]
  },
  {
   "cell_type": "markdown",
   "metadata": {},
   "source": [
    "This object uses a material library [`plants.matlib`](test/test_examples/plants.matlib) that specifies the reflectance and transmittance properties of the scene materials."
   ]
  },
  {
   "cell_type": "code",
   "execution_count": 2,
   "metadata": {},
   "outputs": [],
   "source": [
    "%%bash\n",
    "\n",
    "cat <<EOF > test/test_examples/plants.matlib\n",
    "srm white refl/white.dat\n",
    "EOF"
   ]
  },
  {
   "cell_type": "markdown",
   "metadata": {},
   "source": [
    "In this example, the file contains the single line:\n",
    "\n",
    "    srm white refl/white.dat\n",
    "\n",
    "so there is only a single material of type `srm` (standard reflectance material - Lambertian reflectance (and/or transmittance). The material name is `white` and the (ASCII) file giving the spectral reflectance function is [`refl/white.dat`](test/test_examples/refl/white.dat). "
   ]
  },
  {
   "cell_type": "code",
   "execution_count": 3,
   "metadata": {},
   "outputs": [],
   "source": [
    "%%bash\n",
    "\n",
    "mkdir -p test/test_examples/refl\n",
    "\n",
    "cat <<EOF > test/test_examples/refl/white.dat\n",
    "0 1 \n",
    "10000 1\n",
    "EOF"
   ]
  },
  {
   "cell_type": "markdown",
   "metadata": {},
   "source": [
    "The file [`refl/white.dat`](test/test_examples/refl/white.dat) contains 2 columns: column 1 is 'wavelength' (really, a pseudo-wavelength in this case), column 2 is reflectance for that wavelength (wavelength units are arbitrary, but we usually use nm). \n",
    "\n",
    "In this case, the file specifies:\n",
    "\n",
    "    0 1 \n",
    "    10000 1\n",
    "\n",
    "which is a reflectance of 1.0 for any wavelength (less than or equal to an arbitrary upper limit 10000). If the file specifies transmittance as well, this is given as a third column.\n",
    "\n",
    "Looking back to [`test/test_examples/first.obj`](test/test_examples/first.obj), the line:\n",
    "\n",
    "    mtllib plants.matlib \n",
    "    \n",
    "tells the librat reader to load the 'material library' called [`plants.matlib`](test/test_examples/plants.matlib). First, it will look in the current directory for the file. If it doesn't find it there, it will see if the environment variable `MATLIB` is set. If so, it will look there next. \n",
    "\n"
   ]
  },
  {
   "cell_type": "markdown",
   "metadata": {},
   "source": [
    "## Environment variables\n",
    "\n",
    "The following environmental variables can be used:\n",
    "\n",
    "\n",
    "| Name | File types |\n",
    "|:-:|:-:|\n",
    "| `MATLIB` | material library e.g. `plants.matlib`, all materials defined in a material library e.g. `white.dat`|\n",
    "| `ARARAT_OBJECT` | (extended) wavefront object files e.g. `first.obj`  |\n",
    "| `DIRECT_ILLUMINATION` | spectral files for direct illumination: those defined in `-RATdirect` command line option |\n",
    "| `RSRLIB` | sensor waveband files: those defined in `-RATsensor_wavebands` command line option |\n",
    "| `BPMS_FILES` | Not used |\n",
    "| `SKY_ILLUMINATION` | location of sky map image files: defined in `-RATskymap`  command line option |\n",
    "\n",
    "\n",
    "\n",
    "\n",
    "You can set all of these to the same value, in which case the database of files is all defined relative to that point. This is the most typical use of `librat`. We illustrate this setup below for the `librat` distribution, where a set of examples use files from the directory `test/test_example`.\n",
    "\n",
    "Additionally, the following environment variables can be set to extend the size of some aspects of the model. You would only need to use these in some extreme case.\n",
    "\n",
    "| Name | Purpose |\n",
    "|:-:|:-:|\n",
    "| `MAX_GROUPS` | Maximum number of groups allowed (100000) |\n",
    "| `PRAT_MAX_MATERIALS` | Maximum number of materials allowed (DEFAULT_PRAT_MAX_MATERIALS=1024 in `mtllib.h`) |\n",
    "| `MAX_SUNS` | Maximum number of suns (180 in `rat.h`) |\n",
    "| `MAX_OBJECT_TYPES` | Maximum number of types of object used (`sph`, `f`, etc): hardwired in `intersect_objects.h` at 16. Only used in `RATstart` option 8 |\n",
    "\n",
    "\n",
    "In this case, we would want to set `MATLIB` to `test/test_examples` before invoking `librat`. In `bash` for example, this is done with:\n",
    "\n"
   ]
  },
  {
   "cell_type": "code",
   "execution_count": 4,
   "metadata": {},
   "outputs": [],
   "source": [
    "%%bash\n",
    "\n",
    "export MATLIB=test/test_examples"
   ]
  },
  {
   "cell_type": "markdown",
   "metadata": {},
   "source": [
    "Let's put all of these into a shell called [`init.sh`](test/test_examples/init.sh):"
   ]
  },
  {
   "cell_type": "code",
   "execution_count": 5,
   "metadata": {
    "scrolled": false
   },
   "outputs": [
    {
     "name": "stdout",
     "output_type": "stream",
     "text": [
      "\n",
      "RATstart found ok\n"
     ]
    }
   ],
   "source": [
    "%%bash\n",
    "\n",
    "# create the init.sh file we want\n",
    "outfile=test/test_examples/init.sh\n",
    "\n",
    "cat <<EOF > $outfile\n",
    "#!/bin/bash\n",
    "#\n",
    "# preamble \n",
    "#\n",
    "ARCH=\\$(uname -m)\n",
    "BPMS=\\${BPMS-\\$(pwd)}\n",
    "# set shell variables lib, bin, verbose\n",
    "# with defaults in case not set \n",
    "lib=\\${lib-\"\\$BPMS/lib/\\$ARCH\"}\n",
    "bin=\\${bin-\"\\$BPMS/bin/\\$ARCH\"}\n",
    "VERBOSE=\\${VERBOSE-1}\n",
    "\n",
    "# set up required environment variables for bash\n",
    "export LD_LIBRARY_PATH=\"\\${lib}:\\${LD_LIBRARY_PATH}\"\n",
    "export DYLD_LIBRARY_PATH=\"\\${lib}:\\${DYLD_LIBRARY_PATH}\"\n",
    "export PATH=\"\\${bin}:\\${PATH}\"\n",
    "\n",
    "# set up required environment variables for librat\n",
    "export TEST=\\${BPMS}/test/test_example\n",
    "export MATLIB=\\$TEST\n",
    "export RSRLIB=\\$TEST\n",
    "export ARARAT_OBJECT=\\$TEST\n",
    "export DIRECT_ILLUMINATION=\\$TEST\n",
    "export BPMS_FILES=\\$TEST\n",
    "\n",
    "\n",
    "var=\\$(diff \"\\$(which RATstart)\" \"\\${bin}/RATstart\")\n",
    "#store diff exit code\n",
    "exit_code=\\$?\n",
    "# remember that this is not the same as count of differences\n",
    "lines_output_by_diff=\\$(wc -l <<< \"$var\")\n",
    "\n",
    "echo \"\\$var\"\n",
    "\n",
    "if ((\\$exit_code == 0)); then\n",
    "  if [ \"\\$VERBOSE\" == \"1\" ] ; then \n",
    "    echo \"RATstart found ok\"\n",
    "  fi\n",
    "else\n",
    "  cd $BPMS; make clean all test install \n",
    "fi\n",
    "EOF\n",
    "\n",
    "# set executable mode\n",
    "chmod +x $outfile\n",
    "# test run\n",
    "$outfile"
   ]
  },
  {
   "cell_type": "markdown",
   "metadata": {},
   "source": [
    "The object code line:\n",
    "\n",
    "    usemtl white\n",
    "    \n",
    "tells `librat` to load the material named `white`. Since we defined that in [`plants.matlib`](test/test_examples/plants.matlib) as type `srm` with spectral file [`refl/white.dat`](test/test_examples/refl/white.dat), the material will have a Lambertian reflectance of `1.0` for all (up to 10000 units) wavelengths."
   ]
  },
  {
   "cell_type": "code",
   "execution_count": 6,
   "metadata": {},
   "outputs": [],
   "source": [
    "%%bash\n",
    "\n",
    "cat <<EOF > test/test_examples/white.dat\n",
    "1 1.0\n",
    "1000 1.0\n",
    "EOF"
   ]
  },
  {
   "cell_type": "markdown",
   "metadata": {},
   "source": [
    "    mtllib plants.matlib \n",
    "    usemtl white \n",
    "    v 0 0 0 \n",
    "    v 0 0 1 \n",
    "    plane -1 -2 \n",
    "    !{\n",
    "    usemtl white \n",
    "    !{ \n",
    "    v 0 0 1000 \n",
    "    ell -1 30000 30000 1000 \n",
    "    !} \n",
    "    !}\n",
    "\n",
    "\n",
    "The fields starting `v` in [`test/test_examples/first.obj`](test/test_examples/first.obj) denote a vertex (vector) (as in the standard wavefront format). This requires 3 numbers to be given after the `v` giving the {x,y,z} coordinates of the vector. Note that `v` fields can specify a *location* or *direction* vector. \n",
    "\n",
    "The fields `plane` and `ell` specify scene objects. We will look at a fuller range of such objects later, but these two allow for a simple scene specification. plane is an infinite planar object. It is defined by an intersection point (location vector) `I` and a direction vector `N`. These vectors need to be defined before a call is made to the object, so in this case, we define `I` as `0 0 0` and `N` as `0 0 1`, i.e. an x-y plane at z=0.\n",
    "\n",
    "Thus `plane -1 -2` means 'define a plane with `N` given by the previous (`-1`) specified vector that goes through `I` given by the second to last specified vector (`-2`).'\n",
    "\n",
    "`ell` is an ellipsoid object. Its description requires definition of: \n",
    "\n",
    "- the base (N.B. not the centre) of the ellipsoid (`-1` here, meaning the previously-defined vector - `0 0 1000` in this case); \n",
    "-  the semi-axis lengths in `x,y,z` directions (`30000 30000 1000` here).\n",
    "\n",
    "so:\n",
    "\n",
    "    v 0 0 1000 \n",
    "    ell -1 30000 30000 1000\n",
    "\n",
    "is in fact a spheroid of x-y semi-axis length 30000 units (arbitrary linear units) and z-semi-axis length 1000 units: a *prolate* spheroid that extends from `-30000` to `30000` in the x- and y-directions and from `1000` to `3000` in the z-direction. Not that the physical unit for these dimensions is arbitrary, but must be consistent throughout.\n",
    "\n",
    "\n",
    "The fields `!{` and `!}` in [`test/test_examples/first.obj`](test/test_examples/first.obj) specify that a bounding box should be placed around objects contained within the brackets. This allows for efficient intersection tests in the ray tracing."
   ]
  },
  {
   "cell_type": "markdown",
   "metadata": {},
   "source": [
    "We now want to use the code `RATstart` to run `librat` functionality.\n",
    "\n",
    "If you have compiled the code, the executable and library should be in the directory [`src`](src) as\n",
    "\n",
    "    src/RATstart\n",
    "    src/libratlib.[dll,so]\n",
    "    \n",
    "The suffix for the library will be `dll` on windows, and `so` on other operating systems. Lets just check they are there:"
   ]
  },
  {
   "cell_type": "code",
   "execution_count": 7,
   "metadata": {},
   "outputs": [
    {
     "name": "stdout",
     "output_type": "stream",
     "text": [
      "-rwxr-xr-x  1 plewis  staff   49704 21 Oct 16:17 /Users/plewis/Documents/GitHub/librat/bin/x86_64/RATstart\n",
      "-rwxr-xr-x  1 plewis  staff  437064 21 Oct 16:17 /Users/plewis/Documents/GitHub/librat/lib/x86_64/libratlib.so\n"
     ]
    }
   ],
   "source": [
    "%%bash\n",
    "\n",
    "ARCH=$(uname -m)\n",
    "lib=${lib-\"$BPMS/lib/$ARCH\"}\n",
    "bin=${bin-\"$BPMS/bin/$ARCH\"}\n",
    "\n",
    "ls -l ${bin}/RATstart ${lib}/libratlib.*"
   ]
  },
  {
   "cell_type": "markdown",
   "metadata": {},
   "source": [
    "Don't worry too much if its not there as we can make it when we need it."
   ]
  },
  {
   "cell_type": "code",
   "execution_count": 8,
   "metadata": {},
   "outputs": [
    {
     "name": "stdout",
     "output_type": "stream",
     "text": [
      "\n"
     ]
    }
   ],
   "source": [
    "%%bash\n",
    "\n",
    "#\n",
    "# shell preamble \n",
    "#\n",
    "\n",
    "# set shell variables lib, bin, verbose\n",
    "# with defaults in case not set \n",
    "ARCH=$(uname -m)\n",
    "lib=${lib-\"$BPMS/lib/$ARCH\"}\n",
    "bin=${bin-\"$BPMS/bin/$ARCH\"}\n",
    "verbose=${verbose-1}\n",
    "\n",
    "# set up required environment variables for bash\n",
    "export LD_LIBRARY_PATH=\"${lib}:${LD_LIBRARY_PATH}\"\n",
    "export DYLD_LIBRARY_PATH=\"${lib}:${DYLD_LIBRARY_PATH}\"\n",
    "export PATH=\"${bin}:${PATH}\"\n",
    "\n",
    "# set up required environment variables for librat\n",
    "export TEST=${BPMS}/test/test_example\n",
    "export MATLIB=$TEST\n",
    "export RSRLIB=$TEST\n",
    "export ARARAT_OBJECT=$TEST\n",
    "export DIRECT_ILLUMINATION=$TEST\n",
    "export BPMS_FILES=$TEST\n",
    "\n",
    "var=$(diff \"$(which RATstart)\" \"${bin}/RATstart\")\n",
    "#store diff exit code\n",
    "exit_code=$?\n",
    "# remember that this is not the same as count of differences\n",
    "lines_output_by_diff=$(wc -l <<< \"$var\")\n",
    "\n",
    "echo \"$var\"\n",
    "\n",
    "if (($exit_code == 0)); then\n",
    "  if [ \"$VERBOSE\" == \"1\" ] ; then \n",
    "    echo \"RATstart found ok\"\n",
    "  fi\n",
    "else\n",
    "  cd $BPMS; make clean all test install \n",
    "fi"
   ]
  },
  {
   "cell_type": "markdown",
   "metadata": {},
   "source": [
    "## Object example 2: clones\n",
    "\n",
    "---------------------------------\n",
    "\n"
   ]
  },
  {
   "cell_type": "code",
   "execution_count": 9,
   "metadata": {},
   "outputs": [],
   "source": [
    "%%bash\n",
    "\n",
    "cat <<EOF > test/test_examples/second.obj\n",
    "!{\n",
    "mtllib plants.matlib\n",
    "v 0.000000 0.000000 0.000000\n",
    "v 0.000000 0.000000 1.000000\n",
    "usemtl full\n",
    "plane -1 -2\n",
    "!{\n",
    "#define\n",
    "g object 0\n",
    "usemtl half\n",
    "v 0 0 0\n",
    "v 0 0 1\n",
    "cyl -1 -2 0.1\n",
    "sph -1 0.2\n",
    "v -1 0 1\n",
    "cyl -1 -2 0.1\n",
    "!}\n",
    "!{\n",
    "clone 0 0 0 0 object 0\n",
    "clone 0 1 0 90 object 0\n",
    "clone -1 0 0 -90 object 0\n",
    "!}\n",
    "!}\n",
    "EOF"
   ]
  }
 ],
 "metadata": {
  "kernelspec": {
   "display_name": "Python 3",
   "language": "python",
   "name": "python3"
  },
  "language_info": {
   "codemirror_mode": {
    "name": "ipython",
    "version": 3
   },
   "file_extension": ".py",
   "mimetype": "text/x-python",
   "name": "python",
   "nbconvert_exporter": "python",
   "pygments_lexer": "ipython3",
   "version": "3.7.8"
  },
  "varInspector": {
   "cols": {
    "lenName": 16,
    "lenType": 16,
    "lenVar": 40
   },
   "kernels_config": {
    "python": {
     "delete_cmd_postfix": "",
     "delete_cmd_prefix": "del ",
     "library": "var_list.py",
     "varRefreshCmd": "print(var_dic_list())"
    },
    "r": {
     "delete_cmd_postfix": ") ",
     "delete_cmd_prefix": "rm(",
     "library": "var_list.r",
     "varRefreshCmd": "cat(var_dic_list()) "
    }
   },
   "types_to_exclude": [
    "module",
    "function",
    "builtin_function_or_method",
    "instance",
    "_Feature"
   ],
   "window_display": false
  }
 },
 "nbformat": 4,
 "nbformat_minor": 2
}
