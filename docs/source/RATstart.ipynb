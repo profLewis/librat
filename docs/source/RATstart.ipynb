{
 "cells": [
  {
   "cell_type": "markdown",
   "metadata": {},
   "source": [
    "# `RATstart` \n",
    "\n",
    "This section deals with using the direct interface to the `librat` code at a high level, through the `RATstart` software. This is a short piece of `C` code, the main role of with is to present a set of simple functions controlled by text input on the command line. One of these 'options' (option 14) gives an extremely fexible interface for defining viewing and illumination conditions for radiative transfer simulations, and it is this part of the interface that is most widely used. \n",
    "\n",
    "In this section, we introduce some of the functionality of `RATstart`. We use a `bash` environment here around `RATstart` to emphasise skills and code in running this from a standard `*nix` command lines. We use a python3 environment for plotting and related codes. \n",
    "\n",
    "We first set some local variables."
   ]
  },
  {
   "cell_type": "code",
   "execution_count": 4,
   "metadata": {},
   "outputs": [
    {
     "ename": "SyntaxError",
     "evalue": "invalid syntax (<ipython-input-4-4789571f2f59>, line 1)",
     "output_type": "error",
     "traceback": [
      "\u001b[0;36m  File \u001b[0;32m\"<ipython-input-4-4789571f2f59>\"\u001b[0;36m, line \u001b[0;32m1\u001b[0m\n\u001b[0;31m    from \"../../bin/RATsetup\" import *\u001b[0m\n\u001b[0m                            ^\u001b[0m\n\u001b[0;31mSyntaxError\u001b[0m\u001b[0;31m:\u001b[0m invalid syntax\n"
     ]
    }
   ],
   "source": []
  },
  {
   "cell_type": "markdown",
   "metadata": {},
   "source": [
    "## `RATstart` (formerly `start`)\n",
    "\n",
    "\n",
    "`RATstart` used to be called `start`, but that causes conflicts sometimes, so its now changed to `RATstart`.\n",
    "\n",
    "### Getting started\n",
    "\n",
    "The minimum requirement for the `RATstart` command line is the declaration of some object file to use in the simulation. An object file describes the real world geometry and scattering properties of the objects we are using in the simulation, such as some representation of a vegetation canopy. We generate a very simple object file for demonstrating `RATstart`:\n",
    "\n",
    "    !{\n",
    "    usemtl WHITE\n",
    "    v 0 0 0 \n",
    "    sph -1 100\n",
    "    !}\n",
    "\n",
    "Other than that, its functionality is mainly controlled though a series of option codes read on the input. \n",
    "\n",
    "Valid options are (currently) between 0 and 16, inclusive, with some missing. You shouldn't use the ones not listed as they tend to be experimental and may not work as expected.\n",
    "\n",
    "If we give a non-valid option code, we get the help message:"
   ]
  },
  {
   "cell_type": "code",
   "execution_count": null,
   "metadata": {},
   "outputs": [],
   "source": [
    "%%bash \n",
    "\n",
    "# a simple object file\n",
    "# and invalid code: 1000 \n",
    "# to see the options\n",
    "# a very simple object file\n",
    "cat <<EOF > $BPMSROOT/tmp.$$.obj\n",
    "!{\n",
    "usemtl WHITE\n",
    "v 0 0 0 \n",
    "sph -1 100\n",
    "!}\n",
    "EOF\n",
    "\n",
    "export LD_LIBRARY_PATH=\"${BPMS}/src:${LD_LIBRARY_PATH}\"\n",
    "export DYLD_LIBRARY_PATH=\"${BPMS}/src:${DYLD_LIBRARY_PATH}\"\n",
    "RATstart tmp.$$.obj <<< 1000; \n",
    "\n",
    "# tidy up, removing file \n",
    "rm -f $BPMSROOT/tmp.$$.obj"
   ]
  },
  {
   "cell_type": "markdown",
   "metadata": {},
   "source": [
    "As noted above, we most commonly use option `14`. This allows the definition of a 'camera' and 'light source' defined in the files `camera.dat` and `light.dat` here, respectively and gives a very general interface for radiative transfer simulations. Using the code then amounts to setting up camera and illumination files for the scenarious you are interested in, which greatly simplifies the interface. "
   ]
  },
  {
   "cell_type": "markdown",
   "metadata": {},
   "source": [
    "The command line option `-RAThelp`  will provide the list of command line options:"
   ]
  },
  {
   "cell_type": "code",
   "execution_count": null,
   "metadata": {},
   "outputs": [],
   "source": [
    "%%bash \n",
    "# a simple object file\n",
    "# --help to see command line options\n",
    "# a very simple object file\n",
    "cat <<EOF > $BPMSROOT/tmp.$$.obj\n",
    "!{\n",
    "usemtl WHITE\n",
    "v 0 0 0 \n",
    "sph -1 100\n",
    "!}\n",
    "EOF\n",
    "\n",
    "export LD_LIBRARY_PATH=\"$BPMS/src:${LD_LIBRARY_PATH}\"\n",
    "export DYLD_LIBRARY_PATH=\"$BPMS/src:${DYLD_LIBRARY_PATH}\"\n",
    "RATstart -RAThelp tmp.$$.obj <<< 1000; \n",
    "\n",
    "# tidy up, removing file \n",
    "rm -f $BPMSROOT/tmp.$$.obj"
   ]
  },
  {
   "cell_type": "markdown",
   "metadata": {},
   "source": [
    "In the rest of this section, we will learn how to make a call to `RATstart` and how to use the various command line options and input options."
   ]
  },
  {
   "cell_type": "markdown",
   "metadata": {},
   "source": [
    "\n",
    "\n",
    "### Initialisation shells\n",
    "\n",
    "Before proceeding, we make sure we set appropriate environment variables to run a set of examples with RATstart. We also want to test that the software runs ok. We generate a `bash` shell to achieve this here, and use this in subsequent notes. \n",
    "\n",
    "You can modify any of this as a user, but be careful not to break it! 🙄. In an emergency, you can always just re-download this set of notes and software from [github](https://github.com/profLewis/librat) and start again.\n",
    "\n",
    "If you want to know more about setting up this sort of file, and what it all means, see [Appendix 1](Appendix1). At the moment, you just need to be aware of the need to set environment variables, but not to understand all of the intricacies.\n",
    "\n",
    "We simplify the interface for the environment variables by setting up the configuration file `examples_init.sh`. We then run it, to test the code."
   ]
  },
  {
   "cell_type": "code",
   "execution_count": null,
   "metadata": {},
   "outputs": [],
   "source": [
    "%%bash\n",
    "#\n",
    "# create examples_init.sh\n",
    "# for examples initialisation\n",
    "#\n",
    "# create the init shell\n",
    "cat <<EOF > $BPMS/bin/examples_init.sh\n",
    "#!/bin/bash\n",
    "#\n",
    "# defaults\n",
    "#\n",
    "export BPMS=\\${BPMS-$BPMS}\n",
    "export BPMSROOT=\\${BPMSROOT-\\$BPMSROOT}\n",
    "lib=\\${lib-\\$BPMS/src}\n",
    "bin=\\${bin-\\$BPMS/src}\n",
    "VERBOSE=\\${VERBOSE-0}\n",
    "export TEMP=\\${TEMP-/tmp}\n",
    "\n",
    "# set up required environment variables for bash\n",
    "export LD_LIBRARY_PATH=\"\\${lib}:\\${LD_LIBRARY_PATH}\"\n",
    "export DYLD_LIBRARY_PATH=\"\\${lib}:\\${DYLD_LIBRARY_PATH}\"\n",
    "export PATH=\"\\${bin}:\\${PATH}\"\n",
    "\n",
    "export MATLIB=\\$BPMSROOT\n",
    "export RSRLIB=\\$BPMSROOT\n",
    "export ARARAT_OBJECT=\\$BPMSROOT\n",
    "export DIRECT_ILLUMINATION=\\$BPMSROOT\n",
    "export BPMS_FILES=\\$BPMSROOT\n",
    "export SKY_ILLUMINATION==\\$BPMSROOT\n",
    "\n",
    "if [ \"\\$(which RATstart)\" == \"\\${bin}/RATstart\" ]\n",
    "then\n",
    "  if [ \"\\$VERBOSE\" == 1 ]; then\n",
    "      echo \"RATstart found ok\"\n",
    "  fi\n",
    "else\n",
    "  # we should create them\n",
    "  make clean all \n",
    "fi\n",
    "EOF\n",
    "chmod +x $BPMS/bin/examples_init.sh"
   ]
  },
  {
   "cell_type": "markdown",
   "metadata": {},
   "source": [
    "Let us set the `VERBOSE` flag on, by setting:\n",
    "\n",
    "    export VERBOSE=1\n",
    "    \n",
    "before running `$INIT`. This will cause the shell to print `RATstart found ok` is the executable `RATstart` is where it is expected."
   ]
  },
  {
   "cell_type": "code",
   "execution_count": null,
   "metadata": {},
   "outputs": [],
   "source": [
    "%%bash\n",
    "# run test\n",
    "export VERBOSE=1\n",
    "source examples_init.sh"
   ]
  },
  {
   "cell_type": "markdown",
   "metadata": {},
   "source": [
    "The shell sets `BPMSROOT` to be `$BPMS/obj` by default. This causes other variables such as `MATLIB` to be set to the same value, so `RATstart` will look for materials in `$BPMS/obj` (see below):"
   ]
  },
  {
   "cell_type": "code",
   "execution_count": null,
   "metadata": {},
   "outputs": [],
   "source": [
    "%%bash\n",
    "\n",
    "# run test\n",
    "source examples_init.sh\n",
    "echo \"MATLIB is $MATLIB\""
   ]
  },
  {
   "cell_type": "markdown",
   "metadata": {},
   "source": [
    "If we want to use this shell for `BPMSROOT` elsewhere, such as `/home/me/mydata/somewhere`, we just need to make sure `BPMSROOT` is set to this before running `$INIT`:"
   ]
  },
  {
   "cell_type": "code",
   "execution_count": null,
   "metadata": {},
   "outputs": [],
   "source": [
    "%%bash\n",
    "\n",
    "# run test\n",
    "export BPMSROOT=/home/me/mydata/somewhere\n",
    "source examples_init.sh\n",
    "echo \"MATLIB is $MATLIB\""
   ]
  },
  {
   "cell_type": "markdown",
   "metadata": {},
   "source": [
    "## Environment variables\n",
    "\n",
    "If we take a quick look at the `examples_init.sh` file we generated, we see:"
   ]
  },
  {
   "cell_type": "code",
   "execution_count": null,
   "metadata": {},
   "outputs": [],
   "source": [
    "cat $BPMS/bin/examples_init.sh"
   ]
  },
  {
   "cell_type": "markdown",
   "metadata": {},
   "source": [
    "\n",
    "We might notice that `examples_init.sh` sets a number of environment variables, namely `MATLIB`, `RSRLIB` etc. \n",
    "\n",
    "If you are interested in the details, the meaning of these is given in the table below. \n",
    "\n",
    "Alternatively, just notice that in the init shell, all of these variables are set to  `BPMSROOT`, so if we want to point to the location of an object and material database for librat, we need only set the environment variable  `BPMSROOT` appropriately. In this case it defaults to `$BPMS/obj`.\n",
    "\n"
   ]
  },
  {
   "cell_type": "markdown",
   "metadata": {},
   "source": [
    "\n",
    "\n",
    "\n",
    "**Table explaining librat object environment variables:**\n",
    "\n",
    "\n",
    "| Name | File types |\n",
    "|:-:|:-:|\n",
    "| `MATLIB` | material library e.g. `plants.matlib`, all materials defined in a material library e.g. `white.dat`|\n",
    "| `ARARAT_OBJECT` | (extended) wavefront object files e.g. `first.obj`  |\n",
    "| `DIRECT_ILLUMINATION` | spectral files for direct illumination: those defined in `-RATdirect` command line option |\n",
    "| `RSRLIB` | sensor waveband files: those defined in `-RATsensor_wavebands` command line option |\n",
    "| `BPMS_FILES` | Not used |\n",
    "| `SKY_ILLUMINATION` | location of sky map image files: defined in `-RATskymap`  command line option |\n",
    "\n",
    "\n",
    "You can set all of these to the same value  as above (`$BPMSROOT`), in which case the database of files is all defined relative to that location in the file system. This is the most typical use of `librat`. We illustrate this setup below for the `librat` distribution, where a set of examples use files from the directory `test/test_example`.\n",
    "\n",
    "Additionally in `librat`, the following environment variables can be set to extend the size of some aspects of the model. You would only need to use these in some extreme case.\n",
    "\n",
    "**Table explaining additional librat environment variables:**\n",
    "\n",
    "\n",
    "| Name | Purpose |\n",
    "|:-:|:-:|\n",
    "| `MAX_GROUPS` | Maximum number of groups allowed (100000) |\n",
    "| `PRAT_MAX_MATERIALS` | Maximum number of materials allowed (DEFAULT_PRAT_MAX_MATERIALS=1024 in `mtllib.h`) |\n",
    "| `MAX_SUNS` | Maximum number of suns (180 in `rat.h`) |\n",
    "\n",
    "\n",
    "\n",
    "If you want to run a shell that uses the setup, you will need to use the command `source` to export the variables to your shell.\n",
    "\n",
    "You can test the init file by running the cell (shell) below. "
   ]
  },
  {
   "cell_type": "code",
   "execution_count": null,
   "metadata": {},
   "outputs": [],
   "source": [
    "%%bash\n",
    "\n",
    "# source if we want the info in this shell\n",
    "source examples_init.sh\n",
    "\n",
    "echo \"MATLIB is set to $MATLIB\"\n",
    "echo \"RSRLIB is set to $RSRLIB\""
   ]
  },
  {
   "cell_type": "markdown",
   "metadata": {},
   "source": [
    "```\n",
    "EXERCISE 1\n",
    "\n",
    "    1. Try changing the environment variable VERBOSE to 1 (True) or 0 (False) to see the effect.\n",
    "    \n",
    "    2. You can change the name of the directory where the object and material files are through the environment variable BPMSROOT. See if you can find what BPMSROOT is set to, and also see if yoiu can modify it.\n",
    "    \n",
    "```\n",
    "\n",
    "**Answers below:**"
   ]
  },
  {
   "cell_type": "code",
   "execution_count": null,
   "metadata": {},
   "outputs": [],
   "source": [
    "%%bash\n",
    "# Answers to Exercise 1\n",
    "\n",
    "#----------------------\n",
    "# this part same as above\n",
    "# test the init file\n",
    "# set INIT script\n",
    "source $BPMS/bin/local_init.sh\n",
    "source $INIT\n",
    "#----------------------\n",
    "\n",
    "# 1.1: Try changing the environment variable VERBOSE to 1\n",
    "# (True) and 0 (False) to see the effect.\n",
    "\n",
    "# ANSWER\n",
    "# this sets verbose mode and prints a message\n",
    "# 'RATstart found ok' if it finds the librat RATstart\n",
    "# executable\n",
    "echo  \"----set VERBOSE 1---\"\n",
    "export VERBOSE=1\n",
    "source examples_init.sh\n",
    "# it would be correct, in this instance to use\n",
    "# export VERBOSE=1\n",
    "# $INIT\n",
    "# as there is no real need to source the file\n",
    "# Above, the export in 'export VERBOSE=1' is not\n",
    "# strictly needed if we source $INIT, but it is otherwise\n",
    "\n",
    "# this turns off the verbose mode\n",
    "# so no message is printed\n",
    "echo \"----set VERBOSE 0---\"\n",
    "export VERBOSE=0\n",
    "source examples_init.sh\n",
    "# it would be correct, in this instance to use\n",
    "# export VERBOSE=0\n",
    "# $INIT\n",
    "# as there is no real need to source the file\n",
    "# Above, the export in 'export VERBOSE=1' is not\n",
    "# strictly needed if we source $INIT, but it is otherwise\n",
    "\n",
    "# 1.2: You can change the name of the directory where the \n",
    "# object and material files are through the \n",
    "# environment variable BPMSROOT. \n",
    "# See if you can find what BPMSROOT is set to, \n",
    "# and also see if yoiu can modify it.\n",
    "\n",
    "# ANSWER\n",
    "# we need to see the value of the \n",
    "# environment variable BPMSROOT, but we need it \n",
    "# in this shell. So we *source* the file\n",
    "# rather than running it.\n",
    "echo \"----get BPMSROOT---\"\n",
    "source examples_init.sh\n",
    "echo \"BPMSROOT is $BPMSROOT\"\n",
    "echo \"----set BPMSROOT---\"\n",
    "# To change it, just set it before sourcing\n",
    "export BPMSROOT=\"/tmp\"\n",
    "source examples_init.sh\n",
    "echo \"BPMSROOT is $BPMSROOT\""
   ]
  },
  {
   "cell_type": "markdown",
   "metadata": {},
   "source": [
    "## Making some basic files\n",
    "\n",
    "### `bash` constructs \n",
    "\n",
    "We will create the files we need as we go along, using `bash` shell `cat <<EOF > filename` syntax for multi-line data input. You may have noticed that we did this above in creating the `init` file. \n",
    "\n",
    "If we type:\n",
    "\n",
    "    cat <<EOF > filename\n",
    "    this is line 1\n",
    "    this is line 2\n",
    "    EOF\n",
    "    \n",
    "then a file called `filename` will be generated, containing the information up to the `EOF` marker:\n",
    "\n",
    "    this is line 1\n",
    "    this is line 2\n",
    "   \n",
    "   \n",
    "In a similar fashion, if we type:\n",
    "\n",
    "    cat <<<\"this is line 1\" > filename\n",
    "\n",
    "(note the quotes!) then we can create a single line file with the contents:\n",
    "\n",
    "    this is line 1\n",
    "    \n",
    "This is equivalent to:\n",
    "\n",
    "    echo \"this is line 1\" | cat > filename\n",
    "    "
   ]
  },
  {
   "cell_type": "code",
   "execution_count": null,
   "metadata": {},
   "outputs": [],
   "source": [
    "%%bash\n",
    "\n",
    "cat <<<\"hello world\" "
   ]
  },
  {
   "cell_type": "code",
   "execution_count": null,
   "metadata": {},
   "outputs": [],
   "source": [
    "%%bash\n",
    "\n",
    "cat << EOF\n",
    "hello world\n",
    "EOF"
   ]
  },
  {
   "cell_type": "markdown",
   "metadata": {},
   "source": [
    "    EXERCISE 2\n",
    "\n",
    "        1. Use these shell constructs as appropriate to create a file called green.dat, with 2 columns of data, the first being wavelength in nm, the second being reflectance, representing a typical green spectrum, for samples at 450 nm, 550 nm and 650 nm.\n",
    "\n",
    "        2. Use these shell constructs as appropriate to create a file called white.dat, with 2 columns of data, the first being wavelength in nm, the second being reflectance, representing a white spectrum, for samples at 450 nm, 550 nm and 650 nm.\n",
    "        \n",
    "**Answers below:**"
   ]
  },
  {
   "cell_type": "code",
   "execution_count": null,
   "metadata": {},
   "outputs": [],
   "source": [
    "%%bash\n",
    "\n",
    "# Answers to Exercise 2\n",
    "\n",
    "# 2.1 green: high at 550 nm, low at 450 and 650 nm\n",
    "# Its a multi-line file that we need, so\n",
    "cat << EOF > $BPMS/obj/green_.dat\n",
    "450 0.1\n",
    "550 0.9\n",
    "650 0.1\n",
    "EOF\n",
    "\n",
    "# 2.2 white: high at all\n",
    "# Its a multi-line file that we need, so\n",
    "cat << EOF > $BPMS/obj/white_.dat\n",
    "450 0.1\n",
    "550 0.9\n",
    "650 0.1\n",
    "EOF\n",
    "\n",
    "# show results:\n",
    "echo \"========\"\n",
    "echo \"green\"\n",
    "echo \"========\"\n",
    "cat $BPMS/obj/green_.dat\n",
    "\n",
    "echo \"========\"\n",
    "echo \"white\"\n",
    "echo \"========\"\n",
    "cat $BPMS/obj/white_.dat\n",
    "\n",
    "# be polite and tidy up\n",
    "rm -f $BPMS/obj/green_.dat $BPMS/obj/white_.dat"
   ]
  },
  {
   "cell_type": "markdown",
   "metadata": {},
   "source": [
    "### `first.obj` and associated files\n",
    "\n",
    "Now we will use these constructs to put some text some files in that directory. We will be creating files that we need to run a radiative transfer simulation. We will look into what these mean and their formats later in the notes."
   ]
  },
  {
   "cell_type": "code",
   "execution_count": null,
   "metadata": {},
   "outputs": [],
   "source": [
    "%%bash\n",
    "\n",
    "source examples_init.sh\n",
    "# simple object file\n",
    "# with green plane\n",
    "# and sphere of radius 100 mm\n",
    "# centred at (0,0,0)\n",
    "cat <<EOF > $BPMSROOT/first.obj\n",
    "# My first object file\n",
    "mtllib plants.matlib.new\n",
    "usemtl green \n",
    "v 0 0 0 \n",
    "v 0 0 1 \n",
    "plane -1 -2 \n",
    "!{\n",
    "usemtl white \n",
    "!{ \n",
    "v 0 0 0 \n",
    "sph -1 1\n",
    "!} \n",
    "!}\n",
    "EOF\n",
    "\n",
    "# wavelengths (nm)\n",
    "cat <<EOF > $BPMSROOT/wavebands.dat\n",
    "1 650\n",
    "2 550\n",
    "3 450\n",
    "EOF\n",
    "\n",
    "# spectrum for white\n",
    "cat <<EOF > $BPMSROOT/white.dat\n",
    "450 1\n",
    "550 1\n",
    "650 1\n",
    "EOF\n",
    "\n",
    "# spectrum for green\n",
    "cat <<EOF > $BPMSROOT/green.dat\n",
    "450 0.1\n",
    "550 0.5\n",
    "650 0.1\n",
    "EOF\n",
    "\n",
    "# library listing materials\n",
    "cat <<EOF > $BPMSROOT/plants.matlib.new \n",
    "srm green green.dat\n",
    "srm white white.dat\n",
    "EOF"
   ]
  },
  {
   "cell_type": "markdown",
   "metadata": {},
   "source": [
    "The scene object described in `first.obj` is a sphere of radius 1, centred at location `(0, 0, 0)`, as well as a plane with normal `(0, 0, 1)` passing through location `(0, 0, 0)`. The sphere is `white` and the plane is `green`."
   ]
  },
  {
   "cell_type": "markdown",
   "metadata": {},
   "source": [
    "### height map visualisation\n",
    "\n",
    "In the first example, we produce a visualisation of the object using option `16`.\n",
    "\n",
    "    16 cx cy cz sx sy nrows ncols rpp name : produce a height map in name\n",
    "    \n",
    "Option 16 produces an image dataset (in a rather old 'hips' format) that is a height map of the scene, produced by ray casting. Imagine a rectangle on an x-y plane of physical dimensions (sx, sy), centred at (cx, cy, cz). "
   ]
  },
  {
   "cell_type": "code",
   "execution_count": null,
   "metadata": {},
   "outputs": [],
   "source": [
    "%%bash\n",
    "source examples_init.sh\n",
    "# option 8\n",
    "RATstart first.obj << EOF\n",
    "16 0 0 4 4 4 200 200 1 $BPMS/obj/out.tmp.hips\n",
    "EOF"
   ]
  },
  {
   "cell_type": "markdown",
   "metadata": {},
   "source": [
    "We can use the python library `libhipl` from `RATlibUtils` to read (and write) hips format images:"
   ]
  },
  {
   "cell_type": "code",
   "execution_count": null,
   "metadata": {},
   "outputs": [],
   "source": [
    "from RATlibUtils.libhipl import Hipl\n",
    "import pylab as plt\n",
    "\n",
    "f = BPMS+'/obj/out.tmp.hips'\n",
    "plt.imshow(Hipl().read(f),cmap='gray')\n",
    "plt.colorbar()"
   ]
  },
  {
   "cell_type": "markdown",
   "metadata": {},
   "source": [
    "In the visualisation we can see the shere and plane as a height map. The height varies from 0 (the plane) to 1 (at the top of the sphere). The extent of the scene is `4 x 4` units, so we can confirm that the radius of the sphere is 1 unit by inspection."
   ]
  },
  {
   "cell_type": "markdown",
   "metadata": {},
   "source": [
    "### Ray tracing\n",
    "\n",
    "And now another example.\n",
    "\n",
    "We run this with the verbose flag set on running `RATstart`.\n",
    "\n",
    "The input:\n",
    "\n",
    "        1 3 0 1 1 1 1 1 1 0 1\n",
    "        \n",
    "(option `1`) sets the number of suns (3) followed by the sun direction vectors `(0, 1, 1)` `(1, 1, 1)` and `(1, 0, 1)` here. In practice, we tend to run simulations with a single illumination (sun) vector, but we illustrate using 3 here to encourage the use of this option.\n",
    "\n",
    "The input:\n",
    "\n",
    "        6 0 0 10 0 0 -1\n",
    "        \n",
    "(option `6`) sets up a ray tracing case, for a ray *from* location `(0 0 10)`, in direction `(0 0 -1)` (straight down).\n",
    "\n",
    "We set the `-RATtolerance` command line option to a small number, relative to scene size objects: `0.0000001` is sufficient in this case.\n",
    "\n",
    "We should be able to visualise this situation, and see that the ray will hit the sphere at `(0 0 1)`, so be of length 9 units."
   ]
  },
  {
   "cell_type": "code",
   "execution_count": null,
   "metadata": {},
   "outputs": [],
   "source": [
    "%%bash\n",
    "source examples_init.sh\n",
    "\n",
    "RATstart -RATtolerance 0.0000001 -RATsensor_wavebands wavebands.dat first.obj <<EOF\n",
    "1 3 0 1 1 1 1 1 1 0 1\n",
    "6 0 0 10 0 0 -1               \n",
    "EOF\n"
   ]
  },
  {
   "cell_type": "markdown",
   "metadata": {},
   "source": [
    "In the example above, we hit the sphere at its apex. The normal vector of the sphere at that point is `(0,0,1)` and the material reflectance (`white`) is 1.0 at all wavelengths. So we might notice that the `direct` reflectance above is always the cosine of the angle between the normal vector `(0,0,1)` and the solar vector.\n",
    "\n",
    "We explore this in the code below by calculating the [vector dot product](https://mathworld.wolfram.com/DotProduct.html) of the sun and normal unit vectors. Note that the unit vectors have unit (1) length, so if we define them as vectors of arbitrary length (e.g. `(1, 1, 1)`) we need to normalise them (divide by the length, to give the unit length):"
   ]
  },
  {
   "cell_type": "code",
   "execution_count": null,
   "metadata": {},
   "outputs": [],
   "source": [
    "import numpy as np\n",
    "from numpy import linalg as LA\n",
    "\n",
    "#### dot product for angle ####\n",
    "\n",
    "sun = np.array([1.,1,1.])\n",
    "# normalise vector\n",
    "length = LA.norm(sun)\n",
    "sunHat = sun/length\n",
    "\n",
    "normal = np.array([0,0,1.])\n",
    "# normalise vector\n",
    "length = LA.norm(normal)\n",
    "normalHat = normal/length\n",
    "\n",
    "cosine = np.dot(sunHat,normalHat)\n",
    "print(\"cosine of\",sun,\"=\",cosine)"
   ]
  },
  {
   "cell_type": "markdown",
   "metadata": {},
   "source": [
    "    EXERCISE 3\n",
    "    \n",
    "    Adapt the RATstart example above to have just a single sun vector. \n",
    "    \n",
    "    Change the sun vector in the RATstart example, and use the python code above to predict what the direct reflectance will be. Do this for several examples. \n",
    "    \n",
    "**Answers below:**"
   ]
  },
  {
   "cell_type": "code",
   "execution_count": null,
   "metadata": {},
   "outputs": [],
   "source": [
    "%%bash\n",
    "#\n",
    "# set a single sun vector, here (0,0,1)\n",
    "# so dot product = 1.0 and direct refl = 1\n",
    "#\n",
    "source examples_init.sh\n",
    "\n",
    "RATstart -RATtolerance 0.0000001 -RATsensor_wavebands wavebands.dat first.obj <<EOF\n",
    "1 1 0 0 1\n",
    "6 0 0 10 0 0 -1               \n",
    "EOF"
   ]
  },
  {
   "cell_type": "code",
   "execution_count": null,
   "metadata": {},
   "outputs": [],
   "source": [
    "import numpy as np\n",
    "from numpy import linalg as LA\n",
    "\n",
    "#### dot product for angle ####\n",
    "\n",
    "sun = np.array([0,0,1.])\n",
    "# normalise vector\n",
    "length = LA.norm(sun)\n",
    "sunHat = sun/length\n",
    "\n",
    "normal = np.array([0,0,1.])\n",
    "# normalise vector\n",
    "length = LA.norm(normal)\n",
    "normalHat = normal/length\n",
    "\n",
    "cosine = np.dot(sunHat,normalHat)\n",
    "print(\"cosine of\",sun,\"=\",cosine)"
   ]
  },
  {
   "cell_type": "code",
   "execution_count": null,
   "metadata": {},
   "outputs": [],
   "source": [
    "%%bash\n",
    "#\n",
    "# set a single sun vector, here (0,1,1)\n",
    "# so dot product = 0.707 (sqrt(2)) \n",
    "# and so direct refl = 0.707\n",
    "#\n",
    "source examples_init.sh\n",
    "\n",
    "RATstart -RATtolerance 0.0000001 -RATsensor_wavebands wavebands.dat first.obj <<EOF\n",
    "1 1 0 1 1\n",
    "6 0 0 10 0 0 -1               \n",
    "EOF"
   ]
  },
  {
   "cell_type": "code",
   "execution_count": null,
   "metadata": {},
   "outputs": [],
   "source": [
    "import numpy as np\n",
    "from numpy import linalg as LA\n",
    "\n",
    "#### dot product for angle ####\n",
    "\n",
    "sun = np.array([0,1,1.])\n",
    "# normalise vector\n",
    "length = LA.norm(sun)\n",
    "sunHat = sun/length\n",
    "\n",
    "normal = np.array([0,0,1.])\n",
    "# normalise vector\n",
    "length = LA.norm(normal)\n",
    "normalHat = normal/length\n",
    "\n",
    "cosine = np.dot(sunHat,normalHat)\n",
    "print(\"cosine of\",sun,\"=\",cosine)"
   ]
  },
  {
   "cell_type": "markdown",
   "metadata": {},
   "source": [
    "### Summary\n",
    "\n",
    "In this section, we have introduced the `RATstart` code, some information about the requirements for running the code. We generated some initialisation scripts to simplify setting up environment variables, generated a simple world object (sphere on a plane) and visualised this."
   ]
  }
 ],
 "metadata": {
  "kernelspec": {
   "display_name": "Python 3",
   "language": "python",
   "name": "python3"
  },
  "language_info": {
   "codemirror_mode": {
    "name": "ipython",
    "version": 3
   },
   "file_extension": ".py",
   "mimetype": "text/x-python",
   "name": "python",
   "nbconvert_exporter": "python",
   "pygments_lexer": "ipython3",
   "version": "3.7.4"
  }
 },
 "nbformat": 4,
 "nbformat_minor": 2
}
