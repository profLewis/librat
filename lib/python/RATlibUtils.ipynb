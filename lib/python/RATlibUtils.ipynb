{
 "cells": [
  {
   "cell_type": "code",
   "execution_count": 3,
   "metadata": {},
   "outputs": [],
   "source": [
    "from RATlibUtils import libhipl"
   ]
  },
  {
   "cell_type": "code",
   "execution_count": 4,
   "metadata": {},
   "outputs": [
    {
     "name": "stdout",
     "output_type": "stream",
     "text": [
      "Help on module RATlibUtils.libhipl in RATlibUtils:\n",
      "\n",
      "NAME\n",
      "    RATlibUtils.libhipl - Hipl image class utility\n",
      "\n",
      "DESCRIPTION\n",
      "    P. Lewis, UCL/NCEO\n",
      "    1st April 2020\n",
      "\n",
      "CLASSES\n",
      "    builtins.object\n",
      "        Hipl\n",
      "    \n",
      "    class Hipl(builtins.object)\n",
      "     |  Hipl(data=None, imageName=None)\n",
      "     |  \n",
      "     |  Methods defined here:\n",
      "     |  \n",
      "     |  __init__(self, data=None, imageName=None)\n",
      "     |      Initialise header with numpy array (data)\n",
      "     |  \n",
      "     |  read(self, filename=None)\n",
      "     |      read from Hipl format file into data and header\n",
      "     |  \n",
      "     |  write(self, filename=None)\n",
      "     |      Write HIPL format header and data to \n",
      "     |      filename or self.image['name']\n",
      "     |  \n",
      "     |  ----------------------------------------------------------------------\n",
      "     |  Data descriptors defined here:\n",
      "     |  \n",
      "     |  __dict__\n",
      "     |      dictionary for instance variables (if defined)\n",
      "     |  \n",
      "     |  __weakref__\n",
      "     |      list of weak references to the object (if defined)\n",
      "\n",
      "FUNCTIONS\n",
      "    test1()\n",
      "    \n",
      "    test2()\n",
      "    \n",
      "    test3()\n",
      "\n",
      "FILE\n",
      "    /Users/plewis/librat/python/RATlibUtils/libhipl.py\n",
      "\n",
      "\n"
     ]
    }
   ],
   "source": [
    "help(libhipl)"
   ]
  }
 ],
 "metadata": {
  "kernelspec": {
   "display_name": "Python 3",
   "language": "python",
   "name": "python3"
  },
  "language_info": {
   "codemirror_mode": {
    "name": "ipython",
    "version": 3
   },
   "file_extension": ".py",
   "mimetype": "text/x-python",
   "name": "python",
   "nbconvert_exporter": "python",
   "pygments_lexer": "ipython3",
   "version": "3.7.4"
  }
 },
 "nbformat": 4,
 "nbformat_minor": 4
}
